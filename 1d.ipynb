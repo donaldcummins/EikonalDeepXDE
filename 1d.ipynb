{
 "cells": [
  {
   "cell_type": "markdown",
   "id": "e490f59e-fee4-49d9-bf68-0aee4972ee7c",
   "metadata": {},
   "source": [
    "# The Eikonal Equation in 1D with scikit-fmm and DeepXDE"
   ]
  },
  {
   "cell_type": "code",
   "execution_count": null,
   "id": "de36ba67-e022-43c2-a7c9-bf3647819fa2",
   "metadata": {},
   "outputs": [],
   "source": [
    "import skfmm\n",
    "import numpy as np\n",
    "import matplotlib.pyplot as plt\n",
    "import deepxde as dde"
   ]
  },
  {
   "cell_type": "markdown",
   "id": "d74d2054-2366-47d7-867d-8a67dca7ba0e",
   "metadata": {},
   "source": [
    "## Problem definition and scikit-fmm"
   ]
  },
  {
   "cell_type": "code",
   "execution_count": null,
   "id": "27a232d9-efa0-4215-bc01-372433e5d013",
   "metadata": {},
   "outputs": [],
   "source": [
    "# Define velocity field on interval [-1, 1]\n",
    "def v(x):\n",
    "    return 1.0 + 0.0*x"
   ]
  },
  {
   "cell_type": "code",
   "execution_count": null,
   "id": "85b48d7a-71d3-4fce-b669-bb37799dc16d",
   "metadata": {},
   "outputs": [],
   "source": [
    "# Plot velocity field\n",
    "n = 101\n",
    "xmin, xmax = -1, 1\n",
    "x = np.linspace(xmin, xmax, n)\n",
    "plt.plot(x, v(x))\n",
    "plt.xlabel('x')\n",
    "plt.ylabel('v(x)')\n",
    "plt.title('Velocity field');"
   ]
  },
  {
   "cell_type": "code",
   "execution_count": null,
   "id": "01b931fd-b9d9-4c8c-961d-a0f8f35a4731",
   "metadata": {},
   "outputs": [],
   "source": [
    "# Define source points at -1 and 1 (at the domain boundary)\n",
    "phi = np.ones_like(x)\n",
    "phi[0] = -1\n",
    "phi[-1] = -1"
   ]
  },
  {
   "cell_type": "code",
   "execution_count": null,
   "id": "66aa589d-5382-469c-90f0-a0b6fb87c77a",
   "metadata": {},
   "outputs": [],
   "source": [
    "# Plot minimum distance to a source point\n",
    "dx = (xmax - xmin)/(n-1)\n",
    "d = skfmm.distance(phi, dx)\n",
    "plt.plot(x, d)\n",
    "plt.xlabel('x')\n",
    "plt.ylabel('d(x)')\n",
    "plt.title('Distance to boundary');"
   ]
  },
  {
   "cell_type": "code",
   "execution_count": null,
   "id": "9894dccf-2ed4-470f-8be0-e6b158ce0989",
   "metadata": {},
   "outputs": [],
   "source": [
    "# Calculate travel time via fast marching method (FMM)\n",
    "u = skfmm.travel_time(phi, v(x), dx)\n",
    "plt.plot(x, u)\n",
    "plt.xlabel('x')\n",
    "plt.ylabel('u(x)')\n",
    "plt.title('Travel time to boundary');"
   ]
  },
  {
   "cell_type": "markdown",
   "id": "82d0324c-3651-44fd-96ac-aeb691b97643",
   "metadata": {},
   "source": [
    "## PINN solution with DeepXDE"
   ]
  },
  {
   "cell_type": "code",
   "execution_count": null,
   "id": "14139b91-62fc-4c91-a26e-7c878a10f897",
   "metadata": {},
   "outputs": [],
   "source": [
    "# Reference travel time for constant velocity\n",
    "def u_ref(x):\n",
    "    return 1 - np.abs(x)"
   ]
  },
  {
   "cell_type": "code",
   "execution_count": null,
   "id": "f421cde8-8b20-4730-8224-d49aa7cebc20",
   "metadata": {},
   "outputs": [],
   "source": [
    "# Generate some noisy observations in the left half of the domain\n",
    "n_obs = 30\n",
    "x_obs = np.random.uniform(-1, 0, n_obs)\n",
    "u_obs = u_ref(x_obs) * np.random.normal(1.0, 0.1, n_obs)\n",
    "plt.plot(x, u_ref(x), label='true')\n",
    "plt.scatter(x_obs, u_obs, color='orange', label='observed')\n",
    "plt.legend(loc='upper right')\n",
    "plt.xlabel('x')\n",
    "plt.ylabel('u(x)')\n",
    "plt.title('Observed travel times');"
   ]
  },
  {
   "cell_type": "code",
   "execution_count": null,
   "id": "de000145-3268-406c-acb5-bc4ffa87eb1e",
   "metadata": {},
   "outputs": [],
   "source": [
    "# Define computational domain\n",
    "geom = dde.geometry.Interval(-1.0, 1.0)"
   ]
  },
  {
   "cell_type": "code",
   "execution_count": null,
   "id": "2f4c68b1-3a0a-4b9b-9bd3-e259894a03df",
   "metadata": {},
   "outputs": [],
   "source": [
    "# Define boundary condition for source points at -1 and 1\n",
    "bc = dde.icbc.DirichletBC(geom, u_ref, lambda _, on_boundary: on_boundary)"
   ]
  },
  {
   "cell_type": "code",
   "execution_count": null,
   "id": "431faff8-c6d9-4150-9762-af4a7d01932f",
   "metadata": {},
   "outputs": [],
   "source": [
    "# 1D Eikonal equation\n",
    "def eikonal(x, y):\n",
    "    \"\"\"\n",
    "    |dy/dx| = 1/v(x)\n",
    "    \"\"\"\n",
    "    du_x = dde.grad.jacobian(y, x)\n",
    "    xt = x[:,0]\n",
    "    return du_x**2 - v(xt)**-2"
   ]
  },
  {
   "cell_type": "code",
   "execution_count": null,
   "id": "994525c3-1f07-4cce-8af3-6d52cfa166e2",
   "metadata": {},
   "outputs": [],
   "source": [
    "# Training data\n",
    "obs = dde.icbc.PointSetBC(x_obs.reshape(-1, 1), u_obs.reshape(-1, 1))"
   ]
  },
  {
   "cell_type": "code",
   "execution_count": null,
   "id": "fe736ad6-7cbb-4a0d-a5b9-70cd5c5bff7e",
   "metadata": {},
   "outputs": [],
   "source": [
    "# Combined DeepXDE data object\n",
    "data = dde.data.PDE(\n",
    "    geom,\n",
    "    eikonal,\n",
    "    [bc, obs],\n",
    "    num_domain=100,\n",
    "    num_boundary=2,\n",
    "    anchors=x_obs.reshape(-1, 1),\n",
    "    solution=u_ref\n",
    ")"
   ]
  },
  {
   "cell_type": "code",
   "execution_count": null,
   "id": "355bbe44-3ae6-483e-ac09-0d0f497366b9",
   "metadata": {},
   "outputs": [],
   "source": [
    "# Neural network\n",
    "net = dde.nn.FNN([1] + [10] * 3 + [1], \"tanh\", \"Glorot uniform\")\n",
    "model = dde.Model(data, net)"
   ]
  },
  {
   "cell_type": "code",
   "execution_count": null,
   "id": "406972bf-d1d5-4548-b7e5-8de866755d42",
   "metadata": {},
   "outputs": [],
   "source": [
    "# Compile DeepXDE model\n",
    "model.compile(\"adam\", lr=0.001)"
   ]
  },
  {
   "cell_type": "code",
   "execution_count": null,
   "id": "724bbe1b-0265-446d-8aaf-df750d7cc1e5",
   "metadata": {},
   "outputs": [],
   "source": [
    "# Train model\n",
    "losshistory, train_state = model.train(iterations=50000)"
   ]
  },
  {
   "cell_type": "code",
   "execution_count": null,
   "id": "7c323fc9-990a-4130-bd25-809d626d1fcb",
   "metadata": {},
   "outputs": [],
   "source": [
    "# Plot results\n",
    "dde.saveplot(losshistory, train_state, issave=False, isplot=True)"
   ]
  }
 ],
 "metadata": {
  "kernelspec": {
   "display_name": "Python 3 (ipykernel)",
   "language": "python",
   "name": "python3"
  },
  "language_info": {
   "codemirror_mode": {
    "name": "ipython",
    "version": 3
   },
   "file_extension": ".py",
   "mimetype": "text/x-python",
   "name": "python",
   "nbconvert_exporter": "python",
   "pygments_lexer": "ipython3",
   "version": "3.11.9"
  }
 },
 "nbformat": 4,
 "nbformat_minor": 5
}
