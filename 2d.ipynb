{
 "cells": [
  {
   "cell_type": "markdown",
   "id": "ddb114b3-76be-40fc-9a33-d9f287b140e1",
   "metadata": {},
   "source": [
    "# The Eikonal Equation with scikit-fmm and DeepXDE"
   ]
  },
  {
   "cell_type": "code",
   "execution_count": null,
   "id": "dedba6fb-1522-435f-b6c8-738361a497ae",
   "metadata": {},
   "outputs": [],
   "source": [
    "import skfmm\n",
    "import numpy as np\n",
    "import matplotlib.pyplot as plt\n",
    "import deepxde as dde"
   ]
  },
  {
   "cell_type": "markdown",
   "id": "422cb586-c037-40ad-b683-423ed5a2c67a",
   "metadata": {},
   "source": [
    "## Problem definition and scikit-fmm"
   ]
  },
  {
   "cell_type": "code",
   "execution_count": null,
   "id": "3daabd07-1a71-4af0-92ae-65b40ef6c902",
   "metadata": {},
   "outputs": [],
   "source": [
    "# Unit square computational domain\n",
    "xmin, xmax = 0.0, 1.0\n",
    "ymin, ymax = 0.0, 1.0\n",
    "nx, ny = 101, 101\n",
    "dx = (xmax-xmin)/(nx-1)\n",
    "dy = (ymax-ymin)/(ny-1)"
   ]
  },
  {
   "cell_type": "code",
   "execution_count": null,
   "id": "494c553e-3db3-4507-9eee-7e52c52a2adb",
   "metadata": {},
   "outputs": [],
   "source": [
    "# Create mesh\n",
    "x = np.linspace(xmin, xmax, nx)\n",
    "y = np.linspace(ymin, ymax, ny)\n",
    "X, Y = np.meshgrid(x, y)"
   ]
  },
  {
   "cell_type": "code",
   "execution_count": null,
   "id": "b621f86b-5868-4cb3-81b2-73650506a9f8",
   "metadata": {},
   "outputs": [],
   "source": [
    "# Define boundary as zero contour of surface phi\n",
    "xs, ys = 0.2, 0.8 # source point\n",
    "phi = np.ones_like(X)\n",
    "phi[int(np.floor(ys*ny)), int(np.floor(xs*nx))] = -1\n",
    "plt.contour(X, Y, phi,[0], linewidths=(3), colors='black')\n",
    "plt.title('Boundary')\n",
    "plt.xlabel('x')\n",
    "plt.ylabel('y');"
   ]
  },
  {
   "cell_type": "code",
   "execution_count": null,
   "id": "b7766d67-81b2-4f24-92a6-42d23557e4a5",
   "metadata": {},
   "outputs": [],
   "source": [
    "# Compute the distance from the boundary\n",
    "d = skfmm.distance(phi, dx=dx)\n",
    "plt.contour(X, Y, d, 15)\n",
    "plt.title('Signed distance from boundary')\n",
    "plt.colorbar()\n",
    "plt.xlabel('x')\n",
    "plt.ylabel('y');"
   ]
  },
  {
   "cell_type": "code",
   "execution_count": null,
   "id": "dd96ee7d-3cad-4161-b35f-34af74bfc9e2",
   "metadata": {},
   "outputs": [],
   "source": [
    "# Define linear/constant velocity field\n",
    "constant = True\n",
    "v0 = 1.0\n",
    "if constant:\n",
    "    dvdx, dvdy = 0.0, 0.0\n",
    "else:\n",
    "    dvdx, dvdy = 0.5, 0.5\n",
    "def v(x, y):\n",
    "    return v0 + dvdx*x + dvdy*y\n",
    "V = v(X, Y)\n",
    "if not constant:\n",
    "    plt.contour(X, Y, V, 15)\n",
    "    plt.title('Velocity field')\n",
    "    plt.colorbar()\n",
    "    plt.xlabel('x')\n",
    "    plt.ylabel('y');"
   ]
  },
  {
   "cell_type": "code",
   "execution_count": null,
   "id": "fd655188-ba88-4c5e-81ba-d18a9a71154d",
   "metadata": {},
   "outputs": [],
   "source": [
    "# Compute travel times using fast marching method (FMM)\n",
    "U_fm = skfmm.travel_time(phi, V, dx=dx)\n",
    "plt.contour(X, Y, U_fm, 25)\n",
    "plt.title('Travel time from boundary')\n",
    "plt.colorbar()\n",
    "plt.xlabel('x')\n",
    "plt.ylabel('y');"
   ]
  },
  {
   "cell_type": "markdown",
   "id": "4eb4991a-43e6-47eb-852f-98b5acdc1d11",
   "metadata": {},
   "source": [
    "## PINN solution with DeepXDE"
   ]
  },
  {
   "cell_type": "code",
   "execution_count": null,
   "id": "3c948010-2c6b-4f62-81b4-9be1d98e4c73",
   "metadata": {},
   "outputs": [],
   "source": [
    "# Check that velocity field is constant\n",
    "assert constant, 'The DeepXDE code only works with a constant velocity field'"
   ]
  },
  {
   "cell_type": "code",
   "execution_count": null,
   "id": "7ec2a3bb-6d27-4860-9c27-f60ef8b256a8",
   "metadata": {},
   "outputs": [],
   "source": [
    "# Reference solution\n",
    "def u_ref(x):\n",
    "    xt = x[:,0]\n",
    "    yt = x[:,1]\n",
    "    return np.sqrt((xt-0.2)**2 + (yt-0.8)**2).reshape(-1, 1)"
   ]
  },
  {
   "cell_type": "code",
   "execution_count": null,
   "id": "a961ca09-5c91-407a-83f3-27614b03d659",
   "metadata": {},
   "outputs": [],
   "source": [
    "# Choose points to use for model training\n",
    "n_obs = 30\n",
    "random_indices = np.random.choice(X.size, size=n_obs, replace=False)\n",
    "x_obs = np.column_stack((\n",
    "    X.flatten()[random_indices],\n",
    "    Y.flatten()[random_indices]\n",
    "))\n",
    "u_obs = U_fm.flatten()[random_indices].reshape(-1, 1)"
   ]
  },
  {
   "cell_type": "code",
   "execution_count": null,
   "id": "18509b17-80f5-4612-959a-86853e0a0517",
   "metadata": {},
   "outputs": [],
   "source": [
    "# Define computational domain\n",
    "geom = dde.geometry.Rectangle([xmin,ymin], [xmax,ymax])"
   ]
  },
  {
   "cell_type": "code",
   "execution_count": null,
   "id": "963f5ac2-1856-4143-ac46-659a7d326618",
   "metadata": {},
   "outputs": [],
   "source": [
    "# 2D Eikonal equation\n",
    "def eikonal(x, y):\n",
    "    \"\"\"\n",
    "    |du/dx| = 1/v(x)\n",
    "    \"\"\"  \n",
    "    du_x = dde.grad.jacobian(y, x, i=0, j=0)\n",
    "    du_y = dde.grad.jacobian(y, x, i=0, j=1)\n",
    "\n",
    "    xt = x[:,0]\n",
    "    yt = x[:,1]\n",
    "    \n",
    "    return du_x**2 + du_y**2 - v(xt, yt)**-2\n",
    "    # return du_x*0.0"
   ]
  },
  {
   "cell_type": "code",
   "execution_count": null,
   "id": "7ace2ac9-2438-41f7-9b61-b90c6fc14d75",
   "metadata": {},
   "outputs": [],
   "source": [
    "# Boundary condition for source point\n",
    "bc = dde.icbc.PointSetBC([0.2, 0.8], 0.0)"
   ]
  },
  {
   "cell_type": "code",
   "execution_count": null,
   "id": "8181c727-f74c-4b80-9da1-9665827a6a8f",
   "metadata": {},
   "outputs": [],
   "source": [
    "# Training data\n",
    "# obs = dde.icbc.PointSetBC(x_obs, u_obs)\n",
    "obs = dde.icbc.PointSetBC(x_obs, u_ref(x_obs))"
   ]
  },
  {
   "cell_type": "code",
   "execution_count": null,
   "id": "fe736ad6-7cbb-4a0d-a5b9-70cd5c5bff7e",
   "metadata": {},
   "outputs": [],
   "source": [
    "# Combined DeepXDE data object\n",
    "data = dde.data.PDE(\n",
    "    geom,\n",
    "    eikonal,\n",
    "    # [bc, obs],\n",
    "    [obs], # works better without source point separately specified\n",
    "    num_domain=100,\n",
    "    num_boundary=0,\n",
    "    anchors=x_obs,\n",
    "    solution=u_ref\n",
    ")"
   ]
  },
  {
   "cell_type": "code",
   "execution_count": null,
   "id": "80e59726-cedb-40fe-9f14-aafc42ff9965",
   "metadata": {},
   "outputs": [],
   "source": [
    "# Neural network\n",
    "net = dde.nn.FNN([2] + [10] * 3 + [1], \"tanh\", \"Glorot uniform\")\n",
    "model = dde.Model(data, net)"
   ]
  },
  {
   "cell_type": "code",
   "execution_count": null,
   "id": "9b547b19-f3ac-4129-81fc-e215e323253d",
   "metadata": {},
   "outputs": [],
   "source": [
    "# Compile DeepXDE model\n",
    "model.compile(\"adam\", lr=0.001)"
   ]
  },
  {
   "cell_type": "code",
   "execution_count": null,
   "id": "cbc227cc-817a-4411-80bd-ae88cf1066c9",
   "metadata": {},
   "outputs": [],
   "source": [
    "# Train model\n",
    "losshistory, train_state = model.train(iterations=30000)"
   ]
  },
  {
   "cell_type": "code",
   "execution_count": null,
   "id": "5109ce04-d98e-4d58-b08d-7c2d7fa188e7",
   "metadata": {},
   "outputs": [],
   "source": [
    "# Plot results\n",
    "dde.saveplot(losshistory, train_state, issave=False, isplot=True)"
   ]
  },
  {
   "cell_type": "code",
   "execution_count": null,
   "id": "3c2b01cd-896c-423d-94c7-eb25140ecdcb",
   "metadata": {},
   "outputs": [],
   "source": [
    "# Make predictions over whole domain\n",
    "U_pinn = model.predict(np.column_stack((X.flatten(), Y.flatten()))).reshape(-1,101)"
   ]
  },
  {
   "cell_type": "code",
   "execution_count": null,
   "id": "df78b7ad-0d41-47a4-8aaf-24958a6a7782",
   "metadata": {},
   "outputs": [],
   "source": [
    "# Plot predicted travel times from PINN\n",
    "plt.contour(X, Y, U_pinn, 25)\n",
    "plt.title('Travel time predicted by PINN')\n",
    "plt.colorbar()\n",
    "plt.xlabel('x')\n",
    "plt.ylabel('y');"
   ]
  }
 ],
 "metadata": {
  "kernelspec": {
   "display_name": "Python 3 (ipykernel)",
   "language": "python",
   "name": "python3"
  },
  "language_info": {
   "codemirror_mode": {
    "name": "ipython",
    "version": 3
   },
   "file_extension": ".py",
   "mimetype": "text/x-python",
   "name": "python",
   "nbconvert_exporter": "python",
   "pygments_lexer": "ipython3",
   "version": "3.11.9"
  }
 },
 "nbformat": 4,
 "nbformat_minor": 5
}
